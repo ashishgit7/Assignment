{
  "nbformat": 4,
  "nbformat_minor": 0,
  "metadata": {
    "colab": {
      "name": "Assignment.ipynb",
      "provenance": []
    },
    "kernelspec": {
      "name": "python3",
      "display_name": "Python 3"
    }
  },
  "cells": [
    {
      "cell_type": "code",
      "metadata": {
        "id": "8XokuqsHrVF6",
        "colab_type": "code",
        "outputId": "480454d9-8b62-462f-b625-0b5e911899ca",
        "colab": {
          "base_uri": "https://localhost:8080/",
          "height": 79
        }
      },
      "source": [
        "import keras\n",
        "import numpy as np\n",
        "import pandas as pd\n",
        "from PIL import Image as img"
      ],
      "execution_count": 1,
      "outputs": [
        {
          "output_type": "stream",
          "text": [
            "Using TensorFlow backend.\n"
          ],
          "name": "stderr"
        },
        {
          "output_type": "display_data",
          "data": {
            "text/html": [
              "<p style=\"color: red;\">\n",
              "The default version of TensorFlow in Colab will soon switch to TensorFlow 2.x.<br>\n",
              "We recommend you <a href=\"https://www.tensorflow.org/guide/migrate\" target=\"_blank\">upgrade</a> now \n",
              "or ensure your notebook will continue to use TensorFlow 1.x via the <code>%tensorflow_version 1.x</code> magic:\n",
              "<a href=\"https://colab.research.google.com/notebooks/tensorflow_version.ipynb\" target=\"_blank\">more info</a>.</p>\n"
            ],
            "text/plain": [
              "<IPython.core.display.HTML object>"
            ]
          },
          "metadata": {
            "tags": []
          }
        }
      ]
    },
    {
      "cell_type": "code",
      "metadata": {
        "id": "4CzXldyrso8R",
        "colab_type": "code",
        "outputId": "3c1aedec-2d9b-457e-e1e6-b85dd1c8e10c",
        "colab": {
          "base_uri": "https://localhost:8080/",
          "height": 81
        }
      },
      "source": [
        "img.open(\"modak (1).jpg\").resize((64, 64)).convert(\"L\")"
      ],
      "execution_count": 4,
      "outputs": [
        {
          "output_type": "execute_result",
          "data": {
            "image/png": "[encoded data removed]",
            "text/plain": [
              "<PIL.Image.Image image mode=L size=64x64 at 0x7FE176875908>"
            ]
          },
          "metadata": {
            "tags": []
          },
          "execution_count": 4
        }
      ]
    },
    {
      "cell_type": "code",
      "metadata": {
        "id": "UEX5CGSXsxeS",
        "colab_type": "code",
        "colab": {}
      },
      "source": [
        "import glob\n",
        "from tqdm import tqdm\n",
        "import matplotlib.pyplot as plt\n",
        "modak_train_list = glob.glob(\"modak*.jpg\")"
      ],
      "execution_count": 0,
      "outputs": []
    },
    {
      "cell_type": "code",
      "metadata": {
        "id": "VgBek4wTtQvm",
        "colab_type": "code",
        "outputId": "fc96beb0-6457-4d9d-9205-e2d4e67c69dd",
        "colab": {
          "base_uri": "https://localhost:8080/",
          "height": 34
        }
      },
      "source": [
        "len(modak_train_list)"
      ],
      "execution_count": 6,
      "outputs": [
        {
          "output_type": "execute_result",
          "data": {
            "text/plain": [
              "343"
            ]
          },
          "metadata": {
            "tags": []
          },
          "execution_count": 6
        }
      ]
    },
    {
      "cell_type": "code",
      "metadata": {
        "id": "0YvyXqYWtSfA",
        "colab_type": "code",
        "outputId": "489bb102-13fd-47ac-f49d-826332e45451",
        "colab": {
          "base_uri": "https://localhost:8080/",
          "height": 50
        }
      },
      "source": [
        "x_train = []\n",
        "from PIL import ImageFile\n",
        "ImageFile.LOAD_TRUNCATED_IMAGES = True\n",
        "#..............Data Augmentation.......................................................\n",
        "\n",
        "for i in tqdm(modak_train_list):\n",
        "    temp = img.open(i).resize((64, 64))\n",
        "    temp = temp.convert(\"L\")\n",
        "    \n",
        "    x_train.append((np.array(temp) - np.mean(temp)) / np.std(temp))\n",
        "    x_train.append((np.array(temp.rotate(90)) - np.mean(temp)) / np.std(temp))\n",
        "    x_train.append((np.array(temp.rotate(180)) - np.mean(temp)) / np.std(temp))\n",
        "    x_train.append((np.array(temp.rotate(270)) - np.mean(temp)) / np.std(temp))\n",
        "    \n",
        "\n",
        "\n",
        "y_train = np.tile(1, len(modak_train_list)*4)\n",
        "print(\"images loading is done\")"
      ],
      "execution_count": 10,
      "outputs": [
        {
          "output_type": "stream",
          "text": [
            "100%|██████████| 343/343 [00:01<00:00, 238.47it/s]"
          ],
          "name": "stderr"
        },
        {
          "output_type": "stream",
          "text": [
            "images loading is done\n"
          ],
          "name": "stdout"
        },
        {
          "output_type": "stream",
          "text": [
            "\n"
          ],
          "name": "stderr"
        }
      ]
    },
    {
      "cell_type": "code",
      "metadata": {
        "id": "ZtaxflP0u0d3",
        "colab_type": "code",
        "colab": {}
      },
      "source": [
        "other_train_list = glob.glob(\"obj*.jpg\")"
      ],
      "execution_count": 0,
      "outputs": []
    },
    {
      "cell_type": "code",
      "metadata": {
        "id": "8qyy6hOsxUfz",
        "colab_type": "code",
        "outputId": "e3958fc3-97b3-45bd-b14b-854ab3c19621",
        "colab": {
          "base_uri": "https://localhost:8080/",
          "height": 34
        }
      },
      "source": [
        "keras.backend.image_data_format()\n",
        "keras.backend.set_image_data_format(\"channels_first\")\n",
        "keras.backend.image_data_format()"
      ],
      "execution_count": 14,
      "outputs": [
        {
          "output_type": "execute_result",
          "data": {
            "text/plain": [
              "'channels_first'"
            ]
          },
          "metadata": {
            "tags": []
          },
          "execution_count": 14
        }
      ]
    },
    {
      "cell_type": "code",
      "metadata": {
        "id": "Gbl4KWiqxXHJ",
        "colab_type": "code",
        "outputId": "b652d66e-61d9-4946-defd-b6230cd4679f",
        "colab": {
          "base_uri": "https://localhost:8080/",
          "height": 50
        }
      },
      "source": [
        "#..............Data Augmentation.......................................................\n",
        "for i in tqdm(other_train_list):\n",
        "    temp = img.open(i).resize((64, 64))\n",
        "    temp = temp.convert(\"L\")\n",
        "    \n",
        "    x_train.append((np.array(temp) - np.mean(temp)) / np.std(temp))\n",
        "    x_train.append((np.array(temp.rotate(90)) - np.mean(temp)) / np.std(temp))\n",
        "    x_train.append((np.array(temp.rotate(180)) - np.mean(temp)) / np.std(temp))\n",
        "    x_train.append((np.array(temp.rotate(270)) - np.mean(temp)) / np.std(temp))\n",
        "    \n",
        "y_train = np.concatenate((y_train, np.tile(0, len(other_train_list)*4))).astype(\"uint8\")\n",
        "print(\" images loading is done\")"
      ],
      "execution_count": 15,
      "outputs": [
        {
          "output_type": "stream",
          "text": [
            "100%|██████████| 354/354 [00:01<00:00, 300.27it/s]"
          ],
          "name": "stderr"
        },
        {
          "output_type": "stream",
          "text": [
            " images loading is done\n"
          ],
          "name": "stdout"
        },
        {
          "output_type": "stream",
          "text": [
            "\n"
          ],
          "name": "stderr"
        }
      ]
    },
    {
      "cell_type": "code",
      "metadata": {
        "id": "VdYd-EJNxlkI",
        "colab_type": "code",
        "outputId": "dabbfc37-a13c-49c4-c6c7-acba1e60a899",
        "colab": {
          "base_uri": "https://localhost:8080/",
          "height": 34
        }
      },
      "source": [
        "len(x_train)"
      ],
      "execution_count": 16,
      "outputs": [
        {
          "output_type": "execute_result",
          "data": {
            "text/plain": [
              "2788"
            ]
          },
          "metadata": {
            "tags": []
          },
          "execution_count": 16
        }
      ]
    },
    {
      "cell_type": "code",
      "metadata": {
        "id": "gvvsFe06yFNf",
        "colab_type": "code",
        "outputId": "cedaca4b-72ea-4011-8e16-182a56fee1f8",
        "colab": {
          "base_uri": "https://localhost:8080/",
          "height": 34
        }
      },
      "source": [
        "len(y_train)"
      ],
      "execution_count": 17,
      "outputs": [
        {
          "output_type": "execute_result",
          "data": {
            "text/plain": [
              "2788"
            ]
          },
          "metadata": {
            "tags": []
          },
          "execution_count": 17
        }
      ]
    },
    {
      "cell_type": "code",
      "metadata": {
        "id": "VTlO-NfbyRQd",
        "colab_type": "code",
        "colab": {}
      },
      "source": [
        "a = np.asarray(x_train)\n",
        "x_train = a.reshape(a.shape[0], 1, a.shape[1], a.shape[2])\n",
        "del(a)"
      ],
      "execution_count": 0,
      "outputs": []
    },
    {
      "cell_type": "code",
      "metadata": {
        "id": "ZF8v-RKMyix8",
        "colab_type": "code",
        "colab": {
          "base_uri": "https://localhost:8080/",
          "height": 70
        },
        "outputId": "f4b96764-2692-4820-a7e0-c19abb46f4df"
      },
      "source": [
        "LeakyReLU = keras.layers.LeakyReLU(alpha=0.01)"
      ],
      "execution_count": 19,
      "outputs": [
        {
          "output_type": "stream",
          "text": [
            "WARNING:tensorflow:From /usr/local/lib/python3.6/dist-packages/keras/backend/tensorflow_backend.py:66: The name tf.get_default_graph is deprecated. Please use tf.compat.v1.get_default_graph instead.\n",
            "\n"
          ],
          "name": "stdout"
        }
      ]
    },
    {
      "cell_type": "code",
      "metadata": {
        "id": "RzTcfxUoyvR1",
        "colab_type": "code",
        "outputId": "fb871be9-39c4-43dd-ce90-aa9aa08bc258",
        "colab": {
          "base_uri": "https://localhost:8080/",
          "height": 423
        }
      },
      "source": [
        "#................................. Model training ........................................................\n",
        "\n",
        "model = keras.models.Sequential()\n",
        "\n",
        "model.add(keras.layers.Conv2D(filters=32, kernel_size=(2, 2), input_shape=(1, 64, 64)))\n",
        "model.add(LeakyReLU)\n",
        "model.add(keras.layers.Dropout(rate=0.3))\n",
        "\n",
        "model.add(keras.layers.Conv2D(filters=32, kernel_size=(3, 3)))\n",
        "model.add(LeakyReLU)\n",
        "model.add(keras.layers.Dropout(rate=0.3))\n",
        "\n",
        "model.add(keras.layers.Conv2D(filters=64, activation=\"relu\", kernel_size=(3, 3)))\n",
        "model.add(keras.layers.MaxPooling2D(pool_size=(3, 3)))\n",
        "model.add(keras.layers.Dropout(rate=0.3))\n",
        "\n",
        "model.add(keras.layers.Flatten())\n",
        "model.add(keras.layers.Dense(units=12, activation=\"relu\"))\n",
        "model.add(keras.layers.Dense(units=1, activation=\"sigmoid\"))"
      ],
      "execution_count": 20,
      "outputs": [
        {
          "output_type": "stream",
          "text": [
            "WARNING:tensorflow:From /usr/local/lib/python3.6/dist-packages/keras/backend/tensorflow_backend.py:541: The name tf.placeholder is deprecated. Please use tf.compat.v1.placeholder instead.\n",
            "\n",
            "WARNING:tensorflow:From /usr/local/lib/python3.6/dist-packages/keras/backend/tensorflow_backend.py:4432: The name tf.random_uniform is deprecated. Please use tf.random.uniform instead.\n",
            "\n",
            "WARNING:tensorflow:From /usr/local/lib/python3.6/dist-packages/keras/backend/tensorflow_backend.py:190: The name tf.get_default_session is deprecated. Please use tf.compat.v1.get_default_session instead.\n",
            "\n",
            "WARNING:tensorflow:From /usr/local/lib/python3.6/dist-packages/keras/backend/tensorflow_backend.py:197: The name tf.ConfigProto is deprecated. Please use tf.compat.v1.ConfigProto instead.\n",
            "\n",
            "WARNING:tensorflow:From /usr/local/lib/python3.6/dist-packages/keras/backend/tensorflow_backend.py:203: The name tf.Session is deprecated. Please use tf.compat.v1.Session instead.\n",
            "\n",
            "WARNING:tensorflow:From /usr/local/lib/python3.6/dist-packages/keras/backend/tensorflow_backend.py:207: The name tf.global_variables is deprecated. Please use tf.compat.v1.global_variables instead.\n",
            "\n",
            "WARNING:tensorflow:From /usr/local/lib/python3.6/dist-packages/keras/backend/tensorflow_backend.py:216: The name tf.is_variable_initialized is deprecated. Please use tf.compat.v1.is_variable_initialized instead.\n",
            "\n",
            "WARNING:tensorflow:From /usr/local/lib/python3.6/dist-packages/keras/backend/tensorflow_backend.py:223: The name tf.variables_initializer is deprecated. Please use tf.compat.v1.variables_initializer instead.\n",
            "\n",
            "WARNING:tensorflow:From /usr/local/lib/python3.6/dist-packages/keras/backend/tensorflow_backend.py:148: The name tf.placeholder_with_default is deprecated. Please use tf.compat.v1.placeholder_with_default instead.\n",
            "\n",
            "WARNING:tensorflow:From /usr/local/lib/python3.6/dist-packages/keras/backend/tensorflow_backend.py:3733: calling dropout (from tensorflow.python.ops.nn_ops) with keep_prob is deprecated and will be removed in a future version.\n",
            "Instructions for updating:\n",
            "Please use `rate` instead of `keep_prob`. Rate should be set to `rate = 1 - keep_prob`.\n",
            "WARNING:tensorflow:From /usr/local/lib/python3.6/dist-packages/keras/backend/tensorflow_backend.py:4267: The name tf.nn.max_pool is deprecated. Please use tf.nn.max_pool2d instead.\n",
            "\n"
          ],
          "name": "stdout"
        }
      ]
    },
    {
      "cell_type": "code",
      "metadata": {
        "id": "dN3iS_ubyzpT",
        "colab_type": "code",
        "outputId": "4dd73fd6-1a27-4b2d-e81b-cfc89b80fc31",
        "colab": {
          "base_uri": "https://localhost:8080/",
          "height": 154
        }
      },
      "source": [
        "model.compile(optimizer=keras.optimizers.SGD(), loss=keras.losses.binary_crossentropy, metrics=[\"binary_accuracy\"])"
      ],
      "execution_count": 21,
      "outputs": [
        {
          "output_type": "stream",
          "text": [
            "WARNING:tensorflow:From /usr/local/lib/python3.6/dist-packages/keras/optimizers.py:793: The name tf.train.Optimizer is deprecated. Please use tf.compat.v1.train.Optimizer instead.\n",
            "\n",
            "WARNING:tensorflow:From /usr/local/lib/python3.6/dist-packages/keras/backend/tensorflow_backend.py:3657: The name tf.log is deprecated. Please use tf.math.log instead.\n",
            "\n",
            "WARNING:tensorflow:From /usr/local/lib/python3.6/dist-packages/tensorflow_core/python/ops/nn_impl.py:183: where (from tensorflow.python.ops.array_ops) is deprecated and will be removed in a future version.\n",
            "Instructions for updating:\n",
            "Use tf.where in 2.0, which has the same broadcast rule as np.where\n"
          ],
          "name": "stdout"
        }
      ]
    },
    {
      "cell_type": "code",
      "metadata": {
        "id": "F3UmoAqQzsBf",
        "colab_type": "code",
        "colab": {}
      },
      "source": [
        "from sklearn.model_selection import train_test_split\n",
        "X_train1, X_test1, Y_train1, Y_test1 = train_test_split(x_train, y_train, \n",
        "test_size=0.25, random_state=5)"
      ],
      "execution_count": 0,
      "outputs": []
    },
    {
      "cell_type": "code",
      "metadata": {
        "id": "-QAR3Z5I0mjV",
        "colab_type": "code",
        "outputId": "9180bb52-6642-4c3e-a70b-e2feae16b90f",
        "colab": {
          "base_uri": "https://localhost:8080/",
          "height": 306
        }
      },
      "source": [
        "model.fit(x=X_train1, y=Y_train1, epochs=5, validation_split=0.1, shuffle=True)"
      ],
      "execution_count": 23,
      "outputs": [
        {
          "output_type": "stream",
          "text": [
            "WARNING:tensorflow:From /usr/local/lib/python3.6/dist-packages/keras/backend/tensorflow_backend.py:1033: The name tf.assign_add is deprecated. Please use tf.compat.v1.assign_add instead.\n",
            "\n",
            "WARNING:tensorflow:From /usr/local/lib/python3.6/dist-packages/keras/backend/tensorflow_backend.py:1020: The name tf.assign is deprecated. Please use tf.compat.v1.assign instead.\n",
            "\n",
            "Train on 1881 samples, validate on 210 samples\n",
            "Epoch 1/5\n",
            "1881/1881 [==============================] - 52s 28ms/step - loss: 0.6803 - binary_accuracy: 0.5593 - val_loss: 0.6636 - val_binary_accuracy: 0.6190\n",
            "Epoch 2/5\n",
            "1881/1881 [==============================] - 51s 27ms/step - loss: 0.6261 - binary_accuracy: 0.6411 - val_loss: 0.6492 - val_binary_accuracy: 0.6381\n",
            "Epoch 3/5\n",
            "1881/1881 [==============================] - 51s 27ms/step - loss: 0.5955 - binary_accuracy: 0.6730 - val_loss: 0.6244 - val_binary_accuracy: 0.6714\n",
            "Epoch 4/5\n",
            "1881/1881 [==============================] - 51s 27ms/step - loss: 0.5758 - binary_accuracy: 0.6890 - val_loss: 0.6158 - val_binary_accuracy: 0.7143\n",
            "Epoch 5/5\n",
            "1881/1881 [==============================] - 51s 27ms/step - loss: 0.5482 - binary_accuracy: 0.7092 - val_loss: 0.5713 - val_binary_accuracy: 0.6952\n"
          ],
          "name": "stdout"
        },
        {
          "output_type": "execute_result",
          "data": {
            "text/plain": [
              "<keras.callbacks.History at 0x7fe16f3d3630>"
            ]
          },
          "metadata": {
            "tags": []
          },
          "execution_count": 23
        }
      ]
    },
    {
      "cell_type": "code",
      "metadata": {
        "id": "Icvwj58l0szd",
        "colab_type": "code",
        "colab": {}
      },
      "source": [
        "result = model.predict(x=X_test1)"
      ],
      "execution_count": 0,
      "outputs": []
    },
    {
      "cell_type": "code",
      "metadata": {
        "id": "n-XSRnNT1RX-",
        "colab_type": "code",
        "colab": {}
      },
      "source": [
        "result = result.reshape(result.shape[0])\n",
        "result[result>0.5] = 1\n",
        "result[result<0.5] = 0"
      ],
      "execution_count": 0,
      "outputs": []
    },
    {
      "cell_type": "code",
      "metadata": {
        "id": "Ubuti6Bj1kQi",
        "colab_type": "code",
        "outputId": "52cf88f6-d1b7-4c31-c40c-6dd0b0345d3b",
        "colab": {
          "base_uri": "https://localhost:8080/",
          "height": 34
        }
      },
      "source": [
        "from sklearn.metrics import accuracy_score\n",
        "accuracy_score(Y_test1, result)"
      ],
      "execution_count": 26,
      "outputs": [
        {
          "output_type": "execute_result",
          "data": {
            "text/plain": [
              "0.6700143472022956"
            ]
          },
          "metadata": {
            "tags": []
          },
          "execution_count": 26
        }
      ]
    },
    {
      "cell_type": "code",
      "metadata": {
        "id": "Ja-3y8Uv10pL",
        "colab_type": "code",
        "colab": {
          "base_uri": "https://localhost:8080/",
          "height": 521
        },
        "outputId": "48789f6c-88e6-4902-8c06-b6ed28976d13"
      },
      "source": [
        "model.summary()"
      ],
      "execution_count": 27,
      "outputs": [
        {
          "output_type": "stream",
          "text": [
            "Model: \"sequential_1\"\n",
            "_________________________________________________________________\n",
            "Layer (type)                 Output Shape              Param #   \n",
            "=================================================================\n",
            "conv2d_1 (Conv2D)            (None, 32, 63, 63)        160       \n",
            "_________________________________________________________________\n",
            "leaky_re_lu_1 (LeakyReLU)    multiple                  0         \n",
            "_________________________________________________________________\n",
            "dropout_1 (Dropout)          (None, 32, 63, 63)        0         \n",
            "_________________________________________________________________\n",
            "conv2d_2 (Conv2D)            (None, 32, 61, 61)        9248      \n",
            "_________________________________________________________________\n",
            "dropout_2 (Dropout)          (None, 32, 61, 61)        0         \n",
            "_________________________________________________________________\n",
            "conv2d_3 (Conv2D)            (None, 64, 59, 59)        18496     \n",
            "_________________________________________________________________\n",
            "max_pooling2d_1 (MaxPooling2 (None, 64, 19, 19)        0         \n",
            "_________________________________________________________________\n",
            "dropout_3 (Dropout)          (None, 64, 19, 19)        0         \n",
            "_________________________________________________________________\n",
            "flatten_1 (Flatten)          (None, 23104)             0         \n",
            "_________________________________________________________________\n",
            "dense_1 (Dense)              (None, 12)                277260    \n",
            "_________________________________________________________________\n",
            "dense_2 (Dense)              (None, 1)                 13        \n",
            "=================================================================\n",
            "Total params: 305,177\n",
            "Trainable params: 305,177\n",
            "Non-trainable params: 0\n",
            "_________________________________________________________________\n"
          ],
          "name": "stdout"
        }
      ]
    },
    {
      "cell_type": "code",
      "metadata": {
        "id": "BAhdwab6y-vM",
        "colab_type": "code",
        "colab": {}
      },
      "source": [
        ""
      ],
      "execution_count": 0,
      "outputs": []
    }
  ]
}